{
 "cells": [
  {
   "cell_type": "code",
   "execution_count": 1,
   "id": "e58d93c3",
   "metadata": {},
   "outputs": [
    {
     "name": "stdout",
     "output_type": "stream",
     "text": [
      "     Year_of_Prod  Season  Episode_Number  \\\n",
      "0            1994       1               1   \n",
      "1            1994       1               2   \n",
      "2            1994       1               3   \n",
      "3            1994       1               4   \n",
      "4            1994       1               5   \n",
      "..            ...     ...             ...   \n",
      "231          2004      10              14   \n",
      "232          2004      10              15   \n",
      "233          2004      10              16   \n",
      "234          2004      10              17   \n",
      "235          2004      10              18   \n",
      "\n",
      "                                       Episode_Title  Duration  \\\n",
      "0    The One Where Monica Gets a Roommate: The Pilot  00:22:00   \n",
      "1               The One with the Sonogram at the End  00:22:00   \n",
      "2                             The One with the Thumb  00:22:00   \n",
      "3                 The One with George Stephanopoulos  00:22:00   \n",
      "4     The One with the East German Laundry Detergent  00:22:00   \n",
      "..                                               ...       ...   \n",
      "231                   The One with Princess Consuela  00:22:00   \n",
      "232                       The One Where Estelle Dies  00:22:00   \n",
      "233           The One with Rachel's Going Away Party  00:22:00   \n",
      "234                             The Last One: Part 1  00:30:00   \n",
      "235                             The Last One: Part 2  00:30:00   \n",
      "\n",
      "                                               Summary        Director  Stars  \\\n",
      "0    Monica and the gang introduce Rachel to the \"r...   James Burrows    8.3   \n",
      "1    Ross finds out his ex-wife is pregnant. Rachel...   James Burrows    8.1   \n",
      "2    Monica becomes irritated when everyone likes h...   James Burrows    8.2   \n",
      "3    Joey and Chandler take Ross to a hockey game t...   James Burrows    8.1   \n",
      "4    Eager to spend time with Rachel, Ross pretends...   Pamela Fryman    8.5   \n",
      "..                                                 ...             ...    ...   \n",
      "231  When Phoebe goes to get her name changed she r...  Gary Halvorson    8.6   \n",
      "232  Ross tries to get Rachel to go back to Ralph L...  Gary Halvorson    8.5   \n",
      "233  The gang throws Rachel a goodbye party, during...  Gary Halvorson    8.9   \n",
      "234  Erica gives birth to the baby that Monica and ...    Kevin Bright    9.5   \n",
      "235  Phoebe races Ross to the airport in a bid to s...    Kevin Bright    9.7   \n",
      "\n",
      "     Votes  \n",
      "0     7440  \n",
      "1     4888  \n",
      "2     4605  \n",
      "3     4468  \n",
      "4     4438  \n",
      "..     ...  \n",
      "231   2989  \n",
      "232   2771  \n",
      "233   3141  \n",
      "234   6221  \n",
      "235  10381  \n",
      "\n",
      "[236 rows x 9 columns]\n"
     ]
    }
   ],
   "source": [
    "import pandas as pd\n",
    "df = pd.read_csv(r'C:\\Users\\beatr\\Desktop\\EXERCICIO\\friends_episodes_v3.csv', encoding='latin-1')\n",
    "df.rename(columns={'Episode Number': 'Episode_Number', 'Year_of_prod': 'Year_of_Prod'}, inplace=True)\n",
    "df['Year_of_Prod'] = pd.to_numeric(df['Year_of_Prod'])\n",
    "df['Season'] = pd.to_numeric(df['Season'])\n",
    "df['Episode_Number'] = pd.to_numeric(df['Episode_Number'])\n",
    "df['Duration'] = pd.to_datetime(df['Duration'], unit='m').dt.time\n",
    "df['Stars'] = pd.to_numeric(df['Stars'], downcast='float')\n",
    "df['Votes'] = pd.to_numeric(df['Votes'])\n",
    "print(df)"
   ]
  },
  {
   "cell_type": "code",
   "execution_count": null,
   "id": "e54f35e1",
   "metadata": {},
   "outputs": [],
   "source": []
  }
 ],
 "metadata": {
  "kernelspec": {
   "display_name": "Python 3 (ipykernel)",
   "language": "python",
   "name": "python3"
  },
  "language_info": {
   "codemirror_mode": {
    "name": "ipython",
    "version": 3
   },
   "file_extension": ".py",
   "mimetype": "text/x-python",
   "name": "python",
   "nbconvert_exporter": "python",
   "pygments_lexer": "ipython3",
   "version": "3.9.13"
  }
 },
 "nbformat": 4,
 "nbformat_minor": 5
}
